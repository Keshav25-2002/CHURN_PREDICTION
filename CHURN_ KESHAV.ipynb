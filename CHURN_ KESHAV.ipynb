{
 "cells": [
  {
   "cell_type": "code",
   "execution_count": 1,
   "metadata": {},
   "outputs": [],
   "source": [
    "import numpy as np\n",
    "import pandas as pd"
   ]
  },
  {
   "cell_type": "code",
   "execution_count": 2,
   "metadata": {},
   "outputs": [],
   "source": [
    "df=pd.read_excel(r'CHURNDATA (1).xlsx')"
   ]
  },
  {
   "cell_type": "code",
   "execution_count": 3,
   "metadata": {},
   "outputs": [
    {
     "data": {
      "text/html": [
       "<div>\n",
       "<style scoped>\n",
       "    .dataframe tbody tr th:only-of-type {\n",
       "        vertical-align: middle;\n",
       "    }\n",
       "\n",
       "    .dataframe tbody tr th {\n",
       "        vertical-align: top;\n",
       "    }\n",
       "\n",
       "    .dataframe thead th {\n",
       "        text-align: right;\n",
       "    }\n",
       "</style>\n",
       "<table border=\"1\" class=\"dataframe\">\n",
       "  <thead>\n",
       "    <tr style=\"text-align: right;\">\n",
       "      <th></th>\n",
       "      <th>CIF</th>\n",
       "      <th>CUS_DOB</th>\n",
       "      <th>AGE</th>\n",
       "      <th>CUS_Month_Income</th>\n",
       "      <th>CUS_Gender</th>\n",
       "      <th>CUS_Marital_Status</th>\n",
       "      <th>CUS_Customer_Since</th>\n",
       "      <th>YEARS_WITH_US</th>\n",
       "      <th># total debit transactions for S1</th>\n",
       "      <th># total debit transactions for S2</th>\n",
       "      <th>...</th>\n",
       "      <th>total credit amount for S2</th>\n",
       "      <th>total credit amount for S3</th>\n",
       "      <th>total debit amount</th>\n",
       "      <th>total debit transactions</th>\n",
       "      <th>total credit amount</th>\n",
       "      <th>total credit transactions</th>\n",
       "      <th>total transactions</th>\n",
       "      <th>CUS_Target</th>\n",
       "      <th>TAR_Desc</th>\n",
       "      <th>Status</th>\n",
       "    </tr>\n",
       "  </thead>\n",
       "  <tbody>\n",
       "    <tr>\n",
       "      <th>0</th>\n",
       "      <td>XXXXXX</td>\n",
       "      <td>Feb 13 1970 12:00AM</td>\n",
       "      <td>49</td>\n",
       "      <td>7116.64</td>\n",
       "      <td>MALE</td>\n",
       "      <td>MARRIED</td>\n",
       "      <td>1994-06-30</td>\n",
       "      <td>25</td>\n",
       "      <td>277</td>\n",
       "      <td>265</td>\n",
       "      <td>...</td>\n",
       "      <td>1764079.61</td>\n",
       "      <td>2378592.62</td>\n",
       "      <td>4758311.63</td>\n",
       "      <td>887</td>\n",
       "      <td>5659653.33</td>\n",
       "      <td>65</td>\n",
       "      <td>952</td>\n",
       "      <td>2231</td>\n",
       "      <td>EXECUTIVE</td>\n",
       "      <td>ACTIVE</td>\n",
       "    </tr>\n",
       "    <tr>\n",
       "      <th>1</th>\n",
       "      <td>XXXXXX</td>\n",
       "      <td>Sep 20 1973 12:00AM</td>\n",
       "      <td>46</td>\n",
       "      <td>1500000.00</td>\n",
       "      <td>FEMALE</td>\n",
       "      <td>SINGLE</td>\n",
       "      <td>2005-05-19</td>\n",
       "      <td>14</td>\n",
       "      <td>37</td>\n",
       "      <td>15</td>\n",
       "      <td>...</td>\n",
       "      <td>19500.00</td>\n",
       "      <td>57500.00</td>\n",
       "      <td>139363.22</td>\n",
       "      <td>97</td>\n",
       "      <td>87000.00</td>\n",
       "      <td>10</td>\n",
       "      <td>107</td>\n",
       "      <td>2223</td>\n",
       "      <td>LOW</td>\n",
       "      <td>ACTIVE</td>\n",
       "    </tr>\n",
       "    <tr>\n",
       "      <th>2</th>\n",
       "      <td>XXXXXX</td>\n",
       "      <td>Jul 18 1966 12:00AM</td>\n",
       "      <td>53</td>\n",
       "      <td>5000000.00</td>\n",
       "      <td>FEMALE</td>\n",
       "      <td>SINGLE</td>\n",
       "      <td>2005-05-20</td>\n",
       "      <td>14</td>\n",
       "      <td>31</td>\n",
       "      <td>14</td>\n",
       "      <td>...</td>\n",
       "      <td>240311.84</td>\n",
       "      <td>70946.86</td>\n",
       "      <td>37375.46</td>\n",
       "      <td>53</td>\n",
       "      <td>1020883.70</td>\n",
       "      <td>27</td>\n",
       "      <td>80</td>\n",
       "      <td>2222</td>\n",
       "      <td>MIDLE</td>\n",
       "      <td>ACTIVE</td>\n",
       "    </tr>\n",
       "    <tr>\n",
       "      <th>3</th>\n",
       "      <td>XXXXXX</td>\n",
       "      <td>Jan  9 2004 12:00AM</td>\n",
       "      <td>15</td>\n",
       "      <td>500.00</td>\n",
       "      <td>FEMALE</td>\n",
       "      <td>SINGLE</td>\n",
       "      <td>2005-05-20</td>\n",
       "      <td>14</td>\n",
       "      <td>0</td>\n",
       "      <td>1</td>\n",
       "      <td>...</td>\n",
       "      <td>28089.99</td>\n",
       "      <td>18753.92</td>\n",
       "      <td>4000.00</td>\n",
       "      <td>1</td>\n",
       "      <td>76946.96</td>\n",
       "      <td>12</td>\n",
       "      <td>13</td>\n",
       "      <td>2223</td>\n",
       "      <td>LOW</td>\n",
       "      <td>ACTIVE</td>\n",
       "    </tr>\n",
       "    <tr>\n",
       "      <th>4</th>\n",
       "      <td>XXXXXX</td>\n",
       "      <td>Mar  7 1971 12:00AM</td>\n",
       "      <td>48</td>\n",
       "      <td>9000000.00</td>\n",
       "      <td>FEMALE</td>\n",
       "      <td>SINGLE</td>\n",
       "      <td>2014-06-30</td>\n",
       "      <td>5</td>\n",
       "      <td>15</td>\n",
       "      <td>33</td>\n",
       "      <td>...</td>\n",
       "      <td>176000.00</td>\n",
       "      <td>70500.00</td>\n",
       "      <td>338470.29</td>\n",
       "      <td>60</td>\n",
       "      <td>442100.00</td>\n",
       "      <td>21</td>\n",
       "      <td>81</td>\n",
       "      <td>2223</td>\n",
       "      <td>LOW</td>\n",
       "      <td>ACTIVE</td>\n",
       "    </tr>\n",
       "    <tr>\n",
       "      <th>...</th>\n",
       "      <td>...</td>\n",
       "      <td>...</td>\n",
       "      <td>...</td>\n",
       "      <td>...</td>\n",
       "      <td>...</td>\n",
       "      <td>...</td>\n",
       "      <td>...</td>\n",
       "      <td>...</td>\n",
       "      <td>...</td>\n",
       "      <td>...</td>\n",
       "      <td>...</td>\n",
       "      <td>...</td>\n",
       "      <td>...</td>\n",
       "      <td>...</td>\n",
       "      <td>...</td>\n",
       "      <td>...</td>\n",
       "      <td>...</td>\n",
       "      <td>...</td>\n",
       "      <td>...</td>\n",
       "      <td>...</td>\n",
       "      <td>...</td>\n",
       "    </tr>\n",
       "    <tr>\n",
       "      <th>1244</th>\n",
       "      <td>XXXXXX</td>\n",
       "      <td>Sep 10 1951 12:00AM</td>\n",
       "      <td>68</td>\n",
       "      <td>4500.00</td>\n",
       "      <td>MALE</td>\n",
       "      <td>SINGLE</td>\n",
       "      <td>2005-07-25</td>\n",
       "      <td>14</td>\n",
       "      <td>13</td>\n",
       "      <td>12</td>\n",
       "      <td>...</td>\n",
       "      <td>0.00</td>\n",
       "      <td>0.00</td>\n",
       "      <td>5645.60</td>\n",
       "      <td>26</td>\n",
       "      <td>0.00</td>\n",
       "      <td>0</td>\n",
       "      <td>26</td>\n",
       "      <td>2223</td>\n",
       "      <td>LOW</td>\n",
       "      <td>CHURN</td>\n",
       "    </tr>\n",
       "    <tr>\n",
       "      <th>1245</th>\n",
       "      <td>XXXXXX</td>\n",
       "      <td>Mar 23 1984 12:00AM</td>\n",
       "      <td>35</td>\n",
       "      <td>3500000.00</td>\n",
       "      <td>MALE</td>\n",
       "      <td>SINGLE</td>\n",
       "      <td>2005-07-27</td>\n",
       "      <td>14</td>\n",
       "      <td>55</td>\n",
       "      <td>35</td>\n",
       "      <td>...</td>\n",
       "      <td>119137.62</td>\n",
       "      <td>440891.65</td>\n",
       "      <td>385735.90</td>\n",
       "      <td>127</td>\n",
       "      <td>674630.41</td>\n",
       "      <td>22</td>\n",
       "      <td>149</td>\n",
       "      <td>2222</td>\n",
       "      <td>MIDLE</td>\n",
       "      <td>ACTIVE</td>\n",
       "    </tr>\n",
       "    <tr>\n",
       "      <th>1246</th>\n",
       "      <td>XXXXXX</td>\n",
       "      <td>Feb  4 1985 12:00AM</td>\n",
       "      <td>34</td>\n",
       "      <td>1000.00</td>\n",
       "      <td>MALE</td>\n",
       "      <td>SINGLE</td>\n",
       "      <td>2005-07-25</td>\n",
       "      <td>14</td>\n",
       "      <td>415</td>\n",
       "      <td>368</td>\n",
       "      <td>...</td>\n",
       "      <td>733658.65</td>\n",
       "      <td>971555.27</td>\n",
       "      <td>2473621.68</td>\n",
       "      <td>1207</td>\n",
       "      <td>2641348.01</td>\n",
       "      <td>217</td>\n",
       "      <td>1424</td>\n",
       "      <td>2232</td>\n",
       "      <td>MIDLE</td>\n",
       "      <td>ACTIVE</td>\n",
       "    </tr>\n",
       "    <tr>\n",
       "      <th>1247</th>\n",
       "      <td>XXXXXX</td>\n",
       "      <td>Feb  3 1950 12:00AM</td>\n",
       "      <td>69</td>\n",
       "      <td>2000000.00</td>\n",
       "      <td>MALE</td>\n",
       "      <td>SINGLE</td>\n",
       "      <td>2005-07-26</td>\n",
       "      <td>14</td>\n",
       "      <td>147</td>\n",
       "      <td>202</td>\n",
       "      <td>...</td>\n",
       "      <td>532708.75</td>\n",
       "      <td>400814.60</td>\n",
       "      <td>1371852.22</td>\n",
       "      <td>583</td>\n",
       "      <td>1310768.35</td>\n",
       "      <td>48</td>\n",
       "      <td>631</td>\n",
       "      <td>2222</td>\n",
       "      <td>MIDLE</td>\n",
       "      <td>ACTIVE</td>\n",
       "    </tr>\n",
       "    <tr>\n",
       "      <th>1248</th>\n",
       "      <td>XXXXXX</td>\n",
       "      <td>Feb 23 1961 12:00AM</td>\n",
       "      <td>58</td>\n",
       "      <td>5000000.00</td>\n",
       "      <td>FEMALE</td>\n",
       "      <td>SINGLE</td>\n",
       "      <td>2005-07-26</td>\n",
       "      <td>14</td>\n",
       "      <td>76</td>\n",
       "      <td>88</td>\n",
       "      <td>...</td>\n",
       "      <td>422000.00</td>\n",
       "      <td>214350.00</td>\n",
       "      <td>761827.91</td>\n",
       "      <td>233</td>\n",
       "      <td>666850.00</td>\n",
       "      <td>37</td>\n",
       "      <td>270</td>\n",
       "      <td>2222</td>\n",
       "      <td>MIDLE</td>\n",
       "      <td>ACTIVE</td>\n",
       "    </tr>\n",
       "  </tbody>\n",
       "</table>\n",
       "<p>1249 rows × 28 columns</p>\n",
       "</div>"
      ],
      "text/plain": [
       "         CIF              CUS_DOB  AGE  CUS_Month_Income CUS_Gender  \\\n",
       "0     XXXXXX  Feb 13 1970 12:00AM   49           7116.64       MALE   \n",
       "1     XXXXXX  Sep 20 1973 12:00AM   46        1500000.00     FEMALE   \n",
       "2     XXXXXX  Jul 18 1966 12:00AM   53        5000000.00     FEMALE   \n",
       "3     XXXXXX  Jan  9 2004 12:00AM   15            500.00     FEMALE   \n",
       "4     XXXXXX  Mar  7 1971 12:00AM   48        9000000.00     FEMALE   \n",
       "...      ...                  ...  ...               ...        ...   \n",
       "1244  XXXXXX  Sep 10 1951 12:00AM   68           4500.00       MALE   \n",
       "1245  XXXXXX  Mar 23 1984 12:00AM   35        3500000.00       MALE   \n",
       "1246  XXXXXX  Feb  4 1985 12:00AM   34           1000.00       MALE   \n",
       "1247  XXXXXX  Feb  3 1950 12:00AM   69        2000000.00       MALE   \n",
       "1248  XXXXXX  Feb 23 1961 12:00AM   58        5000000.00     FEMALE   \n",
       "\n",
       "     CUS_Marital_Status CUS_Customer_Since  YEARS_WITH_US  \\\n",
       "0               MARRIED         1994-06-30             25   \n",
       "1                SINGLE         2005-05-19             14   \n",
       "2                SINGLE         2005-05-20             14   \n",
       "3                SINGLE         2005-05-20             14   \n",
       "4                SINGLE         2014-06-30              5   \n",
       "...                 ...                ...            ...   \n",
       "1244             SINGLE         2005-07-25             14   \n",
       "1245             SINGLE         2005-07-27             14   \n",
       "1246             SINGLE         2005-07-25             14   \n",
       "1247             SINGLE         2005-07-26             14   \n",
       "1248             SINGLE         2005-07-26             14   \n",
       "\n",
       "      # total debit transactions for S1  # total debit transactions for S2  \\\n",
       "0                                   277                                265   \n",
       "1                                    37                                 15   \n",
       "2                                    31                                 14   \n",
       "3                                     0                                  1   \n",
       "4                                    15                                 33   \n",
       "...                                 ...                                ...   \n",
       "1244                                 13                                 12   \n",
       "1245                                 55                                 35   \n",
       "1246                                415                                368   \n",
       "1247                                147                                202   \n",
       "1248                                 76                                 88   \n",
       "\n",
       "      ...  total credit amount for S2  total credit amount for S3  \\\n",
       "0     ...                  1764079.61                  2378592.62   \n",
       "1     ...                    19500.00                    57500.00   \n",
       "2     ...                   240311.84                    70946.86   \n",
       "3     ...                    28089.99                    18753.92   \n",
       "4     ...                   176000.00                    70500.00   \n",
       "...   ...                         ...                         ...   \n",
       "1244  ...                        0.00                        0.00   \n",
       "1245  ...                   119137.62                   440891.65   \n",
       "1246  ...                   733658.65                   971555.27   \n",
       "1247  ...                   532708.75                   400814.60   \n",
       "1248  ...                   422000.00                   214350.00   \n",
       "\n",
       "      total debit amount  total debit transactions  total credit amount  \\\n",
       "0             4758311.63                       887           5659653.33   \n",
       "1              139363.22                        97             87000.00   \n",
       "2               37375.46                        53           1020883.70   \n",
       "3                4000.00                         1             76946.96   \n",
       "4              338470.29                        60            442100.00   \n",
       "...                  ...                       ...                  ...   \n",
       "1244             5645.60                        26                 0.00   \n",
       "1245           385735.90                       127            674630.41   \n",
       "1246          2473621.68                      1207           2641348.01   \n",
       "1247          1371852.22                       583           1310768.35   \n",
       "1248           761827.91                       233            666850.00   \n",
       "\n",
       "      total credit transactions  total transactions  CUS_Target   TAR_Desc  \\\n",
       "0                            65                 952        2231  EXECUTIVE   \n",
       "1                            10                 107        2223        LOW   \n",
       "2                            27                  80        2222      MIDLE   \n",
       "3                            12                  13        2223        LOW   \n",
       "4                            21                  81        2223        LOW   \n",
       "...                         ...                 ...         ...        ...   \n",
       "1244                          0                  26        2223        LOW   \n",
       "1245                         22                 149        2222      MIDLE   \n",
       "1246                        217                1424        2232      MIDLE   \n",
       "1247                         48                 631        2222      MIDLE   \n",
       "1248                         37                 270        2222      MIDLE   \n",
       "\n",
       "      Status  \n",
       "0     ACTIVE  \n",
       "1     ACTIVE  \n",
       "2     ACTIVE  \n",
       "3     ACTIVE  \n",
       "4     ACTIVE  \n",
       "...      ...  \n",
       "1244   CHURN  \n",
       "1245  ACTIVE  \n",
       "1246  ACTIVE  \n",
       "1247  ACTIVE  \n",
       "1248  ACTIVE  \n",
       "\n",
       "[1249 rows x 28 columns]"
      ]
     },
     "execution_count": 3,
     "metadata": {},
     "output_type": "execute_result"
    }
   ],
   "source": [
    "df"
   ]
  },
  {
   "cell_type": "code",
   "execution_count": 4,
   "metadata": {},
   "outputs": [
    {
     "data": {
      "text/plain": [
       "Index(['CIF', 'CUS_DOB', 'AGE', 'CUS_Month_Income', 'CUS_Gender',\n",
       "       'CUS_Marital_Status', 'CUS_Customer_Since', 'YEARS_WITH_US',\n",
       "       '# total debit transactions for S1',\n",
       "       '# total debit transactions for S2',\n",
       "       '# total debit transactions for S3', 'total debit amount for S1',\n",
       "       'total debit amount for S2', 'total debit amount for S3',\n",
       "       '# total credit transactions for S1',\n",
       "       '# total credit transactions for S2',\n",
       "       '# total credit transactions for S3', 'total credit amount for S1',\n",
       "       'total credit amount for S2', 'total credit amount for S3',\n",
       "       'total debit amount', 'total debit transactions', 'total credit amount',\n",
       "       'total credit transactions', 'total transactions', 'CUS_Target',\n",
       "       'TAR_Desc', 'Status'],\n",
       "      dtype='object')"
      ]
     },
     "execution_count": 4,
     "metadata": {},
     "output_type": "execute_result"
    }
   ],
   "source": [
    "df.columns"
   ]
  },
  {
   "cell_type": "code",
   "execution_count": 5,
   "metadata": {},
   "outputs": [
    {
     "data": {
      "text/plain": [
       "CIF                                    0\n",
       "CUS_DOB                                0\n",
       "AGE                                    0\n",
       "CUS_Month_Income                      11\n",
       "CUS_Gender                             2\n",
       "CUS_Marital_Status                     0\n",
       "CUS_Customer_Since                     0\n",
       "YEARS_WITH_US                          0\n",
       "# total debit transactions for S1      0\n",
       "# total debit transactions for S2      0\n",
       "# total debit transactions for S3      0\n",
       "total debit amount for S1              0\n",
       "total debit amount for S2              0\n",
       "total debit amount for S3              0\n",
       "# total credit transactions for S1     0\n",
       "# total credit transactions for S2     0\n",
       "# total credit transactions for S3     0\n",
       "total credit amount for S1             0\n",
       "total credit amount for S2             0\n",
       "total credit amount for S3             0\n",
       "total debit amount                     0\n",
       "total debit transactions               0\n",
       "total credit amount                    0\n",
       "total credit transactions              0\n",
       "total transactions                     0\n",
       "CUS_Target                             0\n",
       "TAR_Desc                               0\n",
       "Status                                 0\n",
       "dtype: int64"
      ]
     },
     "execution_count": 5,
     "metadata": {},
     "output_type": "execute_result"
    }
   ],
   "source": [
    "df.isnull().sum()"
   ]
  },
  {
   "cell_type": "code",
   "execution_count": 6,
   "metadata": {},
   "outputs": [
    {
     "name": "stdout",
     "output_type": "stream",
     "text": [
      "<class 'pandas.core.frame.DataFrame'>\n",
      "RangeIndex: 1249 entries, 0 to 1248\n",
      "Data columns (total 28 columns):\n",
      " #   Column                              Non-Null Count  Dtype         \n",
      "---  ------                              --------------  -----         \n",
      " 0   CIF                                 1249 non-null   object        \n",
      " 1   CUS_DOB                             1249 non-null   object        \n",
      " 2   AGE                                 1249 non-null   int64         \n",
      " 3   CUS_Month_Income                    1238 non-null   float64       \n",
      " 4   CUS_Gender                          1247 non-null   object        \n",
      " 5   CUS_Marital_Status                  1249 non-null   object        \n",
      " 6   CUS_Customer_Since                  1249 non-null   datetime64[ns]\n",
      " 7   YEARS_WITH_US                       1249 non-null   int64         \n",
      " 8   # total debit transactions for S1   1249 non-null   int64         \n",
      " 9   # total debit transactions for S2   1249 non-null   int64         \n",
      " 10  # total debit transactions for S3   1249 non-null   int64         \n",
      " 11  total debit amount for S1           1249 non-null   float64       \n",
      " 12  total debit amount for S2           1249 non-null   float64       \n",
      " 13  total debit amount for S3           1249 non-null   float64       \n",
      " 14  # total credit transactions for S1  1249 non-null   int64         \n",
      " 15  # total credit transactions for S2  1249 non-null   int64         \n",
      " 16  # total credit transactions for S3  1249 non-null   int64         \n",
      " 17  total credit amount for S1          1249 non-null   float64       \n",
      " 18  total credit amount for S2          1249 non-null   float64       \n",
      " 19  total credit amount for S3          1249 non-null   float64       \n",
      " 20  total debit amount                  1249 non-null   float64       \n",
      " 21  total debit transactions            1249 non-null   int64         \n",
      " 22  total credit amount                 1249 non-null   float64       \n",
      " 23  total credit transactions           1249 non-null   int64         \n",
      " 24  total transactions                  1249 non-null   int64         \n",
      " 25  CUS_Target                          1249 non-null   int64         \n",
      " 26  TAR_Desc                            1249 non-null   object        \n",
      " 27  Status                              1249 non-null   object        \n",
      "dtypes: datetime64[ns](1), float64(9), int64(12), object(6)\n",
      "memory usage: 273.3+ KB\n"
     ]
    }
   ],
   "source": [
    "df.info()"
   ]
  },
  {
   "cell_type": "code",
   "execution_count": 7,
   "metadata": {},
   "outputs": [
    {
     "data": {
      "text/plain": [
       "11"
      ]
     },
     "execution_count": 7,
     "metadata": {},
     "output_type": "execute_result"
    }
   ],
   "source": [
    "df.isnull().any(axis = 1).sum()"
   ]
  },
  {
   "cell_type": "code",
   "execution_count": 8,
   "metadata": {},
   "outputs": [
    {
     "data": {
      "text/plain": [
       "array(['XXXXXX'], dtype=object)"
      ]
     },
     "execution_count": 8,
     "metadata": {},
     "output_type": "execute_result"
    }
   ],
   "source": [
    "df['CIF'].unique()"
   ]
  },
  {
   "cell_type": "code",
   "execution_count": 9,
   "metadata": {},
   "outputs": [],
   "source": [
    "df.drop('CIF', axis=1, inplace =True) "
   ]
  },
  {
   "cell_type": "code",
   "execution_count": 10,
   "metadata": {},
   "outputs": [
    {
     "data": {
      "text/plain": [
       "nan"
      ]
     },
     "execution_count": 10,
     "metadata": {},
     "output_type": "execute_result"
    }
   ],
   "source": [
    "df['CUS_Month_Income'].unique().sum()"
   ]
  },
  {
   "cell_type": "code",
   "execution_count": 11,
   "metadata": {},
   "outputs": [
    {
     "data": {
      "text/plain": [
       "[<matplotlib.lines.Line2D at 0x1d5a19ec710>]"
      ]
     },
     "execution_count": 11,
     "metadata": {},
     "output_type": "execute_result"
    },
    {
     "data": {
      "image/png": "[encoded data removed]",
      "text/plain": [
       "<Figure size 432x288 with 1 Axes>"
      ]
     },
     "metadata": {},
     "output_type": "display_data"
    }
   ],
   "source": [
    "%matplotlib inline\n",
    "import matplotlib.pyplot as plt\n",
    "plt.style.use('seaborn-whitegrid')\n",
    "\n",
    "plt.plot(df['CUS_Month_Income'],'o')\n"
   ]
  },
  {
   "cell_type": "code",
   "execution_count": 12,
   "metadata": {},
   "outputs": [],
   "source": [
    "df['CUS_DOB'] = pd.to_datetime(df['CUS_DOB'])"
   ]
  },
  {
   "cell_type": "code",
   "execution_count": 13,
   "metadata": {},
   "outputs": [],
   "source": [
    "df.drop('CUS_DOB', axis=1, inplace =True) \n",
    "df.drop('CUS_Customer_Since', axis=1, inplace =True) "
   ]
  },
  {
   "cell_type": "code",
   "execution_count": 14,
   "metadata": {},
   "outputs": [
    {
     "data": {
      "text/plain": [
       "80000000.0"
      ]
     },
     "execution_count": 14,
     "metadata": {},
     "output_type": "execute_result"
    }
   ],
   "source": [
    "df['CUS_Month_Income'].max()"
   ]
  },
  {
   "cell_type": "code",
   "execution_count": 15,
   "metadata": {},
   "outputs": [
    {
     "data": {
      "text/plain": [
       "0.0"
      ]
     },
     "execution_count": 15,
     "metadata": {},
     "output_type": "execute_result"
    }
   ],
   "source": [
    "df['CUS_Month_Income'].min()"
   ]
  },
  {
   "cell_type": "code",
   "execution_count": 16,
   "metadata": {},
   "outputs": [
    {
     "data": {
      "text/plain": [
       "2764868"
      ]
     },
     "execution_count": 16,
     "metadata": {},
     "output_type": "execute_result"
    }
   ],
   "source": [
    "int(df['CUS_Month_Income'].mean())"
   ]
  },
  {
   "cell_type": "code",
   "execution_count": 17,
   "metadata": {},
   "outputs": [
    {
     "data": {
      "text/plain": [
       "1500000.0"
      ]
     },
     "execution_count": 17,
     "metadata": {},
     "output_type": "execute_result"
    }
   ],
   "source": [
    "df['CUS_Month_Income'].median()"
   ]
  },
  {
   "cell_type": "code",
   "execution_count": 18,
   "metadata": {},
   "outputs": [
    {
     "data": {
      "text/plain": [
       "1000000.0"
      ]
     },
     "execution_count": 18,
     "metadata": {},
     "output_type": "execute_result"
    }
   ],
   "source": [
    "import statistics\n",
    "\n",
    "statistics.mode(df['CUS_Month_Income'])"
   ]
  },
  {
   "cell_type": "code",
   "execution_count": 19,
   "metadata": {},
   "outputs": [],
   "source": [
    "df['CUS_Month_Income'].replace(np.nan, 1000000, inplace = True )"
   ]
  },
  {
   "cell_type": "code",
   "execution_count": 20,
   "metadata": {},
   "outputs": [
    {
     "data": {
      "text/plain": [
       "2749325"
      ]
     },
     "execution_count": 20,
     "metadata": {},
     "output_type": "execute_result"
    }
   ],
   "source": [
    "int(df['CUS_Month_Income'].mean())"
   ]
  },
  {
   "cell_type": "code",
   "execution_count": 21,
   "metadata": {},
   "outputs": [
    {
     "data": {
      "text/plain": [
       "array(['MALE', 'FEMALE', nan], dtype=object)"
      ]
     },
     "execution_count": 21,
     "metadata": {},
     "output_type": "execute_result"
    }
   ],
   "source": [
    "df['CUS_Gender'].unique()"
   ]
  },
  {
   "cell_type": "code",
   "execution_count": 22,
   "metadata": {},
   "outputs": [
    {
     "data": {
      "text/html": [
       "<div>\n",
       "<style scoped>\n",
       "    .dataframe tbody tr th:only-of-type {\n",
       "        vertical-align: middle;\n",
       "    }\n",
       "\n",
       "    .dataframe tbody tr th {\n",
       "        vertical-align: top;\n",
       "    }\n",
       "\n",
       "    .dataframe thead th {\n",
       "        text-align: right;\n",
       "    }\n",
       "</style>\n",
       "<table border=\"1\" class=\"dataframe\">\n",
       "  <thead>\n",
       "    <tr style=\"text-align: right;\">\n",
       "      <th></th>\n",
       "      <th>AGE</th>\n",
       "      <th>CUS_Month_Income</th>\n",
       "      <th>CUS_Gender</th>\n",
       "      <th>CUS_Marital_Status</th>\n",
       "      <th>YEARS_WITH_US</th>\n",
       "      <th># total debit transactions for S1</th>\n",
       "      <th># total debit transactions for S2</th>\n",
       "      <th># total debit transactions for S3</th>\n",
       "      <th>total debit amount for S1</th>\n",
       "      <th>total debit amount for S2</th>\n",
       "      <th>...</th>\n",
       "      <th>total credit amount for S2</th>\n",
       "      <th>total credit amount for S3</th>\n",
       "      <th>total debit amount</th>\n",
       "      <th>total debit transactions</th>\n",
       "      <th>total credit amount</th>\n",
       "      <th>total credit transactions</th>\n",
       "      <th>total transactions</th>\n",
       "      <th>CUS_Target</th>\n",
       "      <th>TAR_Desc</th>\n",
       "      <th>Status</th>\n",
       "    </tr>\n",
       "  </thead>\n",
       "  <tbody>\n",
       "    <tr>\n",
       "      <th>184</th>\n",
       "      <td>119</td>\n",
       "      <td>1000000.0</td>\n",
       "      <td>NaN</td>\n",
       "      <td>MARRIED</td>\n",
       "      <td>21</td>\n",
       "      <td>4</td>\n",
       "      <td>4</td>\n",
       "      <td>1</td>\n",
       "      <td>2899.6</td>\n",
       "      <td>15000.0</td>\n",
       "      <td>...</td>\n",
       "      <td>2000.0</td>\n",
       "      <td>0.0</td>\n",
       "      <td>18649.3</td>\n",
       "      <td>9</td>\n",
       "      <td>2000.00</td>\n",
       "      <td>1</td>\n",
       "      <td>10</td>\n",
       "      <td>2223</td>\n",
       "      <td>LOW</td>\n",
       "      <td>CHURN</td>\n",
       "    </tr>\n",
       "    <tr>\n",
       "      <th>996</th>\n",
       "      <td>119</td>\n",
       "      <td>1000000.0</td>\n",
       "      <td>NaN</td>\n",
       "      <td>SINGLE</td>\n",
       "      <td>21</td>\n",
       "      <td>27</td>\n",
       "      <td>0</td>\n",
       "      <td>0</td>\n",
       "      <td>43318.0</td>\n",
       "      <td>0.0</td>\n",
       "      <td>...</td>\n",
       "      <td>0.0</td>\n",
       "      <td>0.0</td>\n",
       "      <td>43318.0</td>\n",
       "      <td>27</td>\n",
       "      <td>39250.86</td>\n",
       "      <td>5</td>\n",
       "      <td>32</td>\n",
       "      <td>2233</td>\n",
       "      <td>LOW</td>\n",
       "      <td>CHURN</td>\n",
       "    </tr>\n",
       "  </tbody>\n",
       "</table>\n",
       "<p>2 rows × 25 columns</p>\n",
       "</div>"
      ],
      "text/plain": [
       "     AGE  CUS_Month_Income CUS_Gender CUS_Marital_Status  YEARS_WITH_US  \\\n",
       "184  119         1000000.0        NaN            MARRIED             21   \n",
       "996  119         1000000.0        NaN             SINGLE             21   \n",
       "\n",
       "     # total debit transactions for S1  # total debit transactions for S2  \\\n",
       "184                                  4                                  4   \n",
       "996                                 27                                  0   \n",
       "\n",
       "     # total debit transactions for S3  total debit amount for S1  \\\n",
       "184                                  1                     2899.6   \n",
       "996                                  0                    43318.0   \n",
       "\n",
       "     total debit amount for S2  ...  total credit amount for S2  \\\n",
       "184                    15000.0  ...                      2000.0   \n",
       "996                        0.0  ...                         0.0   \n",
       "\n",
       "     total credit amount for S3  total debit amount  total debit transactions  \\\n",
       "184                         0.0             18649.3                         9   \n",
       "996                         0.0             43318.0                        27   \n",
       "\n",
       "     total credit amount  total credit transactions  total transactions  \\\n",
       "184              2000.00                          1                  10   \n",
       "996             39250.86                          5                  32   \n",
       "\n",
       "     CUS_Target  TAR_Desc  Status  \n",
       "184        2223       LOW   CHURN  \n",
       "996        2233       LOW   CHURN  \n",
       "\n",
       "[2 rows x 25 columns]"
      ]
     },
     "execution_count": 22,
     "metadata": {},
     "output_type": "execute_result"
    }
   ],
   "source": [
    "df[df['CUS_Gender'].isnull()]"
   ]
  },
  {
   "cell_type": "code",
   "execution_count": 23,
   "metadata": {},
   "outputs": [
    {
     "data": {
      "text/plain": [
       "MALE      741\n",
       "FEMALE    506\n",
       "Name: CUS_Gender, dtype: int64"
      ]
     },
     "execution_count": 23,
     "metadata": {},
     "output_type": "execute_result"
    }
   ],
   "source": [
    "df['CUS_Gender'].value_counts()"
   ]
  },
  {
   "cell_type": "code",
   "execution_count": 24,
   "metadata": {},
   "outputs": [],
   "source": [
    "df['CUS_Gender'].replace(np.nan, 'FEMALE', inplace = True )"
   ]
  },
  {
   "cell_type": "code",
   "execution_count": 25,
   "metadata": {},
   "outputs": [
    {
     "data": {
      "text/plain": [
       "array([2231, 2223, 2222, 2235, 2212, 2232, 2230, 2211, 2234, 2224, 2233,\n",
       "       2236], dtype=int64)"
      ]
     },
     "execution_count": 25,
     "metadata": {},
     "output_type": "execute_result"
    }
   ],
   "source": [
    "df['CUS_Target'].unique()"
   ]
  },
  {
   "cell_type": "code",
   "execution_count": 26,
   "metadata": {},
   "outputs": [
    {
     "data": {
      "text/plain": [
       "array(['MARRIED', 'SINGLE', 'WIDOWED', 'DIVORCE', 'OTHER', 'PARTNER'],\n",
       "      dtype=object)"
      ]
     },
     "execution_count": 26,
     "metadata": {},
     "output_type": "execute_result"
    }
   ],
   "source": [
    "df['CUS_Marital_Status'].unique()"
   ]
  },
  {
   "cell_type": "code",
   "execution_count": 27,
   "metadata": {},
   "outputs": [
    {
     "data": {
      "text/plain": [
       "array(['MARRIED', 'SINGLE', 'WIDOWED', 'DIVORCE', 'OTHER', 'PARTNER'],\n",
       "      dtype=object)"
      ]
     },
     "execution_count": 27,
     "metadata": {},
     "output_type": "execute_result"
    }
   ],
   "source": [
    "df['CUS_Marital_Status'].unique()"
   ]
  },
  {
   "cell_type": "code",
   "execution_count": 28,
   "metadata": {},
   "outputs": [
    {
     "data": {
      "text/plain": [
       "array([25, 14,  5, 23,  4,  8, 13, 21, 20, 22, 28,  0,  6,  9, 24, 15,  3,\n",
       "       12, 11,  1,  2, 17, 10], dtype=int64)"
      ]
     },
     "execution_count": 28,
     "metadata": {},
     "output_type": "execute_result"
    }
   ],
   "source": [
    "df['YEARS_WITH_US'].unique()"
   ]
  },
  {
   "cell_type": "code",
   "execution_count": 29,
   "metadata": {},
   "outputs": [
    {
     "data": {
      "text/plain": [
       "ACTIVE    1022\n",
       "CHURN      227\n",
       "Name: Status, dtype: int64"
      ]
     },
     "execution_count": 29,
     "metadata": {},
     "output_type": "execute_result"
    }
   ],
   "source": [
    "df['Status'].value_counts()"
   ]
  },
  {
   "cell_type": "code",
   "execution_count": 30,
   "metadata": {},
   "outputs": [],
   "source": [
    "# import seaborn as sns\n",
    "\n",
    "# correlation = df.corr()\n",
    "\n",
    "# plt.subplots(figsize=(30,10))\n",
    "# sns.heatmap( correlation, square=True, annot=True, fmt=\".1f\" )  \n",
    "# # plt.savefig(\" \",bbox_inches = \"tight\")"
   ]
  },
  {
   "cell_type": "markdown",
   "metadata": {},
   "source": [
    "### LABEL ENCODING"
   ]
  },
  {
   "cell_type": "code",
   "execution_count": 31,
   "metadata": {},
   "outputs": [],
   "source": [
    "df['CUS_Gender'] = df['CUS_Gender'].replace(\"MALE\", 0)\n",
    "df['CUS_Gender'] = df['CUS_Gender'].replace(\"FEMALE\",1)"
   ]
  },
  {
   "cell_type": "code",
   "execution_count": 32,
   "metadata": {},
   "outputs": [],
   "source": [
    "df['CUS_Marital_Status'] = df['CUS_Marital_Status'].replace(\"MARRIED\", 0)\n",
    "df['CUS_Marital_Status'] = df['CUS_Marital_Status'].replace(\"SINGLE\",1)\n",
    "df['CUS_Marital_Status'] = df['CUS_Marital_Status'].replace(\"WIDOWED\",2)\n",
    "df['CUS_Marital_Status'] = df['CUS_Marital_Status'].replace(\"DIVORCE\",3)\n",
    "df['CUS_Marital_Status'] = df['CUS_Marital_Status'].replace(\"OTHER\",4)\n",
    "df['CUS_Marital_Status'] = df['CUS_Marital_Status'].replace(\"PARTNER\",5)"
   ]
  },
  {
   "cell_type": "code",
   "execution_count": 33,
   "metadata": {},
   "outputs": [],
   "source": [
    "df['TAR_Desc'] = df['TAR_Desc'].replace(\"EXECUTIVE\", 0)\n",
    "df['TAR_Desc'] = df['TAR_Desc'].replace(\"LOW\",1)\n",
    "df['TAR_Desc'] = df['TAR_Desc'].replace(\"MIDLE\",2)\n",
    "df['TAR_Desc'] = df['TAR_Desc'].replace(\"PLATINUM\",3)"
   ]
  },
  {
   "cell_type": "code",
   "execution_count": 34,
   "metadata": {},
   "outputs": [],
   "source": [
    "df['Status'] = df['Status'].replace(\"ACTIVE\",0)\n",
    "df['Status'] = df['Status'].replace(\"CHURN\",1)"
   ]
  },
  {
   "cell_type": "code",
   "execution_count": 35,
   "metadata": {},
   "outputs": [
    {
     "data": {
      "text/plain": [
       "25"
      ]
     },
     "execution_count": 35,
     "metadata": {},
     "output_type": "execute_result"
    }
   ],
   "source": [
    "df.columns.value_counts().sum()"
   ]
  },
  {
   "cell_type": "code",
   "execution_count": 36,
   "metadata": {},
   "outputs": [],
   "source": [
    "from sklearn.feature_selection import SelectKBest\n",
    "from sklearn.feature_selection import chi2\n",
    "X = df.iloc[:,0:24]  #independent columns\n",
    "Y = df.iloc[:,-1]    #target column i.e price range"
   ]
  },
  {
   "cell_type": "code",
   "execution_count": 37,
   "metadata": {},
   "outputs": [],
   "source": [
    "#apply SelectKBest class to extract top 10 best features\n",
    "bestfeatures = SelectKBest(score_func=chi2, k=10)\n",
    "fit = bestfeatures.fit(X,Y)"
   ]
  },
  {
   "cell_type": "code",
   "execution_count": 38,
   "metadata": {},
   "outputs": [],
   "source": [
    "dfscores = pd.DataFrame(fit.scores_) #scores are based on chi-square test\n",
    "dfcolumns = pd.DataFrame(X.columns)"
   ]
  },
  {
   "cell_type": "code",
   "execution_count": 39,
   "metadata": {},
   "outputs": [],
   "source": [
    "featureScores = pd.concat([dfcolumns,dfscores],axis=1)\n",
    "featureScores.columns = ['Specs','Score'] "
   ]
  },
  {
   "cell_type": "code",
   "execution_count": 40,
   "metadata": {},
   "outputs": [
    {
     "data": {
      "text/html": [
       "<div>\n",
       "<style scoped>\n",
       "    .dataframe tbody tr th:only-of-type {\n",
       "        vertical-align: middle;\n",
       "    }\n",
       "\n",
       "    .dataframe tbody tr th {\n",
       "        vertical-align: top;\n",
       "    }\n",
       "\n",
       "    .dataframe thead th {\n",
       "        text-align: right;\n",
       "    }\n",
       "</style>\n",
       "<table border=\"1\" class=\"dataframe\">\n",
       "  <thead>\n",
       "    <tr style=\"text-align: right;\">\n",
       "      <th></th>\n",
       "      <th>Specs</th>\n",
       "      <th>Score</th>\n",
       "    </tr>\n",
       "  </thead>\n",
       "  <tbody>\n",
       "    <tr>\n",
       "      <th>0</th>\n",
       "      <td>AGE</td>\n",
       "      <td>6.576776e-01</td>\n",
       "    </tr>\n",
       "    <tr>\n",
       "      <th>1</th>\n",
       "      <td>CUS_Month_Income</td>\n",
       "      <td>1.147551e+07</td>\n",
       "    </tr>\n",
       "    <tr>\n",
       "      <th>2</th>\n",
       "      <td>CUS_Gender</td>\n",
       "      <td>4.445812e+00</td>\n",
       "    </tr>\n",
       "    <tr>\n",
       "      <th>3</th>\n",
       "      <td>CUS_Marital_Status</td>\n",
       "      <td>1.436955e-01</td>\n",
       "    </tr>\n",
       "    <tr>\n",
       "      <th>4</th>\n",
       "      <td>YEARS_WITH_US</td>\n",
       "      <td>8.056870e-02</td>\n",
       "    </tr>\n",
       "    <tr>\n",
       "      <th>5</th>\n",
       "      <td># total debit transactions for S1</td>\n",
       "      <td>7.777249e+03</td>\n",
       "    </tr>\n",
       "    <tr>\n",
       "      <th>6</th>\n",
       "      <td># total debit transactions for S2</td>\n",
       "      <td>9.307897e+03</td>\n",
       "    </tr>\n",
       "    <tr>\n",
       "      <th>7</th>\n",
       "      <td># total debit transactions for S3</td>\n",
       "      <td>1.266300e+04</td>\n",
       "    </tr>\n",
       "    <tr>\n",
       "      <th>8</th>\n",
       "      <td>total debit amount for S1</td>\n",
       "      <td>4.552430e+07</td>\n",
       "    </tr>\n",
       "    <tr>\n",
       "      <th>9</th>\n",
       "      <td>total debit amount for S2</td>\n",
       "      <td>5.572506e+07</td>\n",
       "    </tr>\n",
       "    <tr>\n",
       "      <th>10</th>\n",
       "      <td>total debit amount for S3</td>\n",
       "      <td>7.110034e+07</td>\n",
       "    </tr>\n",
       "    <tr>\n",
       "      <th>11</th>\n",
       "      <td># total credit transactions for S1</td>\n",
       "      <td>8.039045e+02</td>\n",
       "    </tr>\n",
       "    <tr>\n",
       "      <th>12</th>\n",
       "      <td># total credit transactions for S2</td>\n",
       "      <td>1.016182e+03</td>\n",
       "    </tr>\n",
       "    <tr>\n",
       "      <th>13</th>\n",
       "      <td># total credit transactions for S3</td>\n",
       "      <td>1.538174e+03</td>\n",
       "    </tr>\n",
       "    <tr>\n",
       "      <th>14</th>\n",
       "      <td>total credit amount for S1</td>\n",
       "      <td>5.708901e+07</td>\n",
       "    </tr>\n",
       "    <tr>\n",
       "      <th>15</th>\n",
       "      <td>total credit amount for S2</td>\n",
       "      <td>6.373533e+07</td>\n",
       "    </tr>\n",
       "    <tr>\n",
       "      <th>16</th>\n",
       "      <td>total credit amount for S3</td>\n",
       "      <td>7.188781e+07</td>\n",
       "    </tr>\n",
       "    <tr>\n",
       "      <th>17</th>\n",
       "      <td>total debit amount</td>\n",
       "      <td>1.707408e+08</td>\n",
       "    </tr>\n",
       "    <tr>\n",
       "      <th>18</th>\n",
       "      <td>total debit transactions</td>\n",
       "      <td>2.949724e+04</td>\n",
       "    </tr>\n",
       "    <tr>\n",
       "      <th>19</th>\n",
       "      <td>total credit amount</td>\n",
       "      <td>1.921753e+08</td>\n",
       "    </tr>\n",
       "    <tr>\n",
       "      <th>20</th>\n",
       "      <td>total credit transactions</td>\n",
       "      <td>3.317200e+03</td>\n",
       "    </tr>\n",
       "    <tr>\n",
       "      <th>21</th>\n",
       "      <td>total transactions</td>\n",
       "      <td>3.275459e+04</td>\n",
       "    </tr>\n",
       "    <tr>\n",
       "      <th>22</th>\n",
       "      <td>CUS_Target</td>\n",
       "      <td>1.781536e-02</td>\n",
       "    </tr>\n",
       "    <tr>\n",
       "      <th>23</th>\n",
       "      <td>TAR_Desc</td>\n",
       "      <td>7.210674e-01</td>\n",
       "    </tr>\n",
       "  </tbody>\n",
       "</table>\n",
       "</div>"
      ],
      "text/plain": [
       "                                 Specs         Score\n",
       "0                                  AGE  6.576776e-01\n",
       "1                     CUS_Month_Income  1.147551e+07\n",
       "2                           CUS_Gender  4.445812e+00\n",
       "3                   CUS_Marital_Status  1.436955e-01\n",
       "4                        YEARS_WITH_US  8.056870e-02\n",
       "5    # total debit transactions for S1  7.777249e+03\n",
       "6    # total debit transactions for S2  9.307897e+03\n",
       "7    # total debit transactions for S3  1.266300e+04\n",
       "8            total debit amount for S1  4.552430e+07\n",
       "9            total debit amount for S2  5.572506e+07\n",
       "10           total debit amount for S3  7.110034e+07\n",
       "11  # total credit transactions for S1  8.039045e+02\n",
       "12  # total credit transactions for S2  1.016182e+03\n",
       "13  # total credit transactions for S3  1.538174e+03\n",
       "14          total credit amount for S1  5.708901e+07\n",
       "15          total credit amount for S2  6.373533e+07\n",
       "16          total credit amount for S3  7.188781e+07\n",
       "17                  total debit amount  1.707408e+08\n",
       "18            total debit transactions  2.949724e+04\n",
       "19                 total credit amount  1.921753e+08\n",
       "20           total credit transactions  3.317200e+03\n",
       "21                  total transactions  3.275459e+04\n",
       "22                          CUS_Target  1.781536e-02\n",
       "23                            TAR_Desc  7.210674e-01"
      ]
     },
     "execution_count": 40,
     "metadata": {},
     "output_type": "execute_result"
    }
   ],
   "source": [
    "featureScores"
   ]
  },
  {
   "cell_type": "code",
   "execution_count": 41,
   "metadata": {
    "scrolled": true
   },
   "outputs": [
    {
     "name": "stdout",
     "output_type": "stream",
     "text": [
      "                                Specs         Score\n",
      "19                total credit amount  1.921753e+08\n",
      "17                 total debit amount  1.707408e+08\n",
      "16         total credit amount for S3  7.188781e+07\n",
      "10          total debit amount for S3  7.110034e+07\n",
      "15         total credit amount for S2  6.373533e+07\n",
      "14         total credit amount for S1  5.708901e+07\n",
      "9           total debit amount for S2  5.572506e+07\n",
      "8           total debit amount for S1  4.552430e+07\n",
      "1                    CUS_Month_Income  1.147551e+07\n",
      "21                 total transactions  3.275459e+04\n",
      "18           total debit transactions  2.949724e+04\n",
      "7   # total debit transactions for S3  1.266300e+04\n"
     ]
    }
   ],
   "source": [
    "print(featureScores.nlargest(12,'Score'))  #print 10 best features"
   ]
  },
  {
   "cell_type": "markdown",
   "metadata": {},
   "source": [
    "### Feature Importance"
   ]
  },
  {
   "cell_type": "code",
   "execution_count": 42,
   "metadata": {},
   "outputs": [
    {
     "data": {
      "text/plain": [
       "ExtraTreesClassifier()"
      ]
     },
     "execution_count": 42,
     "metadata": {},
     "output_type": "execute_result"
    }
   ],
   "source": [
    "from sklearn.ensemble import ExtraTreesClassifier\n",
    "import matplotlib.pyplot as plt\n",
    "model = ExtraTreesClassifier()\n",
    "model.fit(X,Y)"
   ]
  },
  {
   "cell_type": "code",
   "execution_count": 43,
   "metadata": {},
   "outputs": [
    {
     "name": "stdout",
     "output_type": "stream",
     "text": [
      "[0.04426812 0.04154395 0.01420845 0.01984643 0.0186036  0.04704538\n",
      " 0.05713803 0.1029056  0.03671131 0.04201905 0.05275379 0.03488677\n",
      " 0.04707581 0.0486449  0.02734903 0.02350862 0.03025604 0.04404105\n",
      " 0.07817526 0.02917565 0.04771367 0.07932691 0.0158856  0.01691697]\n"
     ]
    }
   ],
   "source": [
    "print(model.feature_importances_) #use inbuilt class feature_importances of tree based classifiers"
   ]
  },
  {
   "cell_type": "code",
   "execution_count": 44,
   "metadata": {},
   "outputs": [
    {
     "data": {
      "image/png": "[encoded data removed]",
      "text/plain": [
       "<Figure size 432x288 with 1 Axes>"
      ]
     },
     "metadata": {},
     "output_type": "display_data"
    }
   ],
   "source": [
    "#plot graph of feature importances for better visualization\n",
    "feat_importances = pd.Series(model.feature_importances_, index=X.columns)\n",
    "feat_importances.nlargest(12).plot(kind='barh')\n",
    "plt.show()"
   ]
  },
  {
   "cell_type": "markdown",
   "metadata": {},
   "source": [
    "### Model"
   ]
  },
  {
   "cell_type": "code",
   "execution_count": 45,
   "metadata": {},
   "outputs": [],
   "source": [
    "# X=df[[\n",
    "    \n",
    "#     'CUS_Gender',\n",
    "    \n",
    "#     '# total debit transactions for S1',\n",
    "#     '# total debit transactions for S2',\n",
    "#     '# total debit transactions for S3',\n",
    "    \n",
    "#     'total debit amount for S1',\n",
    "#     'total debit amount for S2',\n",
    "#     'total debit amount for S3',\n",
    "    \n",
    "#     'total credit amount for S1',\n",
    "#     'total credit amount for S2',\n",
    "#     'total credit amount for S3',\n",
    "    \n",
    "#     '# total credit transactions for S1',\n",
    "#     '# total credit transactions for S2',\n",
    "#     '# total credit transactions for S3',\n",
    "    \n",
    "#     'total debit amount',\n",
    "#     'total credit amount',\n",
    "    \n",
    "    \n",
    "#     'total debit transactions',\n",
    "#     'total credit transactions',\n",
    "    \n",
    "#     'total transactions',\n",
    "    \n",
    "#     'TAR_Desc']]\n",
    "\n",
    "\n",
    "# Y=df[[\"Status\"]]"
   ]
  },
  {
   "cell_type": "code",
   "execution_count": 46,
   "metadata": {},
   "outputs": [],
   "source": [
    "X=df[[\n",
    "    \n",
    "    'total debit amount for S1',\n",
    "    'total debit amount for S2',\n",
    "    'total debit amount for S3',\n",
    "    \n",
    "    'total credit amount for S1',\n",
    "    'total credit amount for S2',\n",
    "    'total credit amount for S3',\n",
    "    \n",
    "    \n",
    "    '# total credit transactions for S3',\n",
    "    \n",
    "    'total debit amount',\n",
    "    'total credit amount',\n",
    "    'CUS_Month_Income',\n",
    "    \n",
    "    \n",
    "    'total debit transactions',\n",
    "    \n",
    "    'total transactions']]\n",
    "\n",
    "\n",
    "y=df[[\"Status\"]]"
   ]
  },
  {
   "cell_type": "code",
   "execution_count": 47,
   "metadata": {},
   "outputs": [],
   "source": [
    "from sklearn.model_selection import train_test_split\n",
    "X_train, X_test, y_train, y_test = train_test_split(X,y, test_size=0.4, random_state=20)"
   ]
  },
  {
   "cell_type": "markdown",
   "metadata": {},
   "source": [
    "### Logistic Regression"
   ]
  },
  {
   "cell_type": "code",
   "execution_count": 48,
   "metadata": {},
   "outputs": [
    {
     "name": "stderr",
     "output_type": "stream",
     "text": [
      "C:\\Users\\aaypo\\anaconda3\\envs\\rstudio\\lib\\site-packages\\sklearn\\utils\\validation.py:63: DataConversionWarning: A column-vector y was passed when a 1d array was expected. Please change the shape of y to (n_samples, ), for example using ravel().\n",
      "  return f(*args, **kwargs)\n"
     ]
    },
    {
     "data": {
      "text/plain": [
       "LogisticRegression()"
      ]
     },
     "execution_count": 48,
     "metadata": {},
     "output_type": "execute_result"
    }
   ],
   "source": [
    "from sklearn.linear_model import LogisticRegression\n",
    "from sklearn import metrics\n",
    "\n",
    "logreg = LogisticRegression()\n",
    "logreg.fit(X_train, y_train)"
   ]
  },
  {
   "cell_type": "code",
   "execution_count": 49,
   "metadata": {},
   "outputs": [],
   "source": [
    "pred_prob1 = logreg.predict_proba(X_test)"
   ]
  },
  {
   "cell_type": "code",
   "execution_count": 50,
   "metadata": {},
   "outputs": [
    {
     "name": "stdout",
     "output_type": "stream",
     "text": [
      "Accuracy of logistic regression classifier on test set: 0.84\n"
     ]
    }
   ],
   "source": [
    "y_pred_lr = logreg.predict(X_test)\n",
    "print('Accuracy of logistic regression classifier on test set: {:.2f}'.format(logreg.score(X_test, y_test)))"
   ]
  },
  {
   "cell_type": "markdown",
   "metadata": {},
   "source": [
    "### Confusion Matrix"
   ]
  },
  {
   "cell_type": "code",
   "execution_count": 51,
   "metadata": {},
   "outputs": [
    {
     "name": "stdout",
     "output_type": "stream",
     "text": [
      "[[407   2]\n",
      " [ 80  11]]\n"
     ]
    }
   ],
   "source": [
    "from sklearn.metrics import confusion_matrix\n",
    "confusion_matrix = confusion_matrix(y_test, y_pred_lr)\n",
    "print(confusion_matrix)"
   ]
  },
  {
   "cell_type": "code",
   "execution_count": 52,
   "metadata": {},
   "outputs": [
    {
     "name": "stdout",
     "output_type": "stream",
     "text": [
      "              precision    recall  f1-score   support\n",
      "\n",
      "           0       0.84      1.00      0.91       409\n",
      "           1       0.85      0.12      0.21        91\n",
      "\n",
      "    accuracy                           0.84       500\n",
      "   macro avg       0.84      0.56      0.56       500\n",
      "weighted avg       0.84      0.84      0.78       500\n",
      "\n"
     ]
    }
   ],
   "source": [
    "from sklearn.metrics import classification_report\n",
    "print(classification_report(y_test, y_pred_lr))"
   ]
  },
  {
   "cell_type": "markdown",
   "metadata": {},
   "source": [
    "### SVM"
   ]
  },
  {
   "cell_type": "code",
   "execution_count": 53,
   "metadata": {},
   "outputs": [
    {
     "name": "stderr",
     "output_type": "stream",
     "text": [
      "C:\\Users\\aaypo\\anaconda3\\envs\\rstudio\\lib\\site-packages\\sklearn\\utils\\validation.py:63: DataConversionWarning: A column-vector y was passed when a 1d array was expected. Please change the shape of y to (n_samples, ), for example using ravel().\n",
      "  return f(*args, **kwargs)\n",
      "C:\\Users\\aaypo\\anaconda3\\envs\\rstudio\\lib\\site-packages\\sklearn\\svm\\_base.py:986: ConvergenceWarning: Liblinear failed to converge, increase the number of iterations.\n",
      "  \"the number of iterations.\", ConvergenceWarning)\n"
     ]
    },
    {
     "data": {
      "text/plain": [
       "LinearSVC(random_state=20)"
      ]
     },
     "execution_count": 53,
     "metadata": {},
     "output_type": "execute_result"
    }
   ],
   "source": [
    "from sklearn import svm\n",
    "from sklearn.metrics import accuracy_score\n",
    "support = svm.LinearSVC(random_state=20)\n",
    "# Train the model using the training sets and check score on test dataset\n",
    "support.fit(X_train,y_train)"
   ]
  },
  {
   "cell_type": "code",
   "execution_count": 54,
   "metadata": {},
   "outputs": [],
   "source": [
    "# pred_prob2 = support.predict_proba(X_test)\n",
    "# sklearn.svm.libsvm.predict_proba()"
   ]
  },
  {
   "cell_type": "code",
   "execution_count": 55,
   "metadata": {},
   "outputs": [
    {
     "name": "stdout",
     "output_type": "stream",
     "text": [
      "Your Model Accuracy is 0.768\n"
     ]
    }
   ],
   "source": [
    "y_pred_svm= support.predict(X_test)\n",
    "score=accuracy_score(y_test,y_pred_svm)\n",
    "print(\"Your Model Accuracy is\", score)"
   ]
  },
  {
   "cell_type": "markdown",
   "metadata": {},
   "source": [
    "### DECISION TREE\n"
   ]
  },
  {
   "cell_type": "code",
   "execution_count": 56,
   "metadata": {},
   "outputs": [
    {
     "data": {
      "text/plain": [
       "DecisionTreeClassifier(criterion='entropy', random_state=0)"
      ]
     },
     "execution_count": 56,
     "metadata": {},
     "output_type": "execute_result"
    }
   ],
   "source": [
    "from sklearn.tree import DecisionTreeClassifier  \n",
    "clf= DecisionTreeClassifier(criterion='entropy', random_state=0)  \n",
    "clf.fit(X_train, y_train)  "
   ]
  },
  {
   "cell_type": "code",
   "execution_count": 57,
   "metadata": {},
   "outputs": [],
   "source": [
    "#Predicting the test set result  \n",
    "y_pred_dt = clf.predict(X_test)"
   ]
  },
  {
   "cell_type": "code",
   "execution_count": 58,
   "metadata": {},
   "outputs": [],
   "source": [
    "pred_prob3 = clf.predict_proba(X_test)"
   ]
  },
  {
   "cell_type": "code",
   "execution_count": 59,
   "metadata": {},
   "outputs": [
    {
     "name": "stdout",
     "output_type": "stream",
     "text": [
      "Accuracy Score on train data:  1.0\n",
      "Accuracy Score on test data:  0.828\n"
     ]
    }
   ],
   "source": [
    "from sklearn.metrics import accuracy_score\n",
    "print('Accuracy Score on train data: ', accuracy_score(y_true=y_train, y_pred=clf.predict(X_train)))\n",
    "print('Accuracy Score on test data: ', accuracy_score(y_true=y_test, y_pred=y_pred_dt))"
   ]
  },
  {
   "cell_type": "markdown",
   "metadata": {},
   "source": [
    "### Naive Bias"
   ]
  },
  {
   "cell_type": "code",
   "execution_count": 60,
   "metadata": {},
   "outputs": [
    {
     "name": "stderr",
     "output_type": "stream",
     "text": [
      "C:\\Users\\aaypo\\anaconda3\\envs\\rstudio\\lib\\site-packages\\sklearn\\utils\\validation.py:63: DataConversionWarning: A column-vector y was passed when a 1d array was expected. Please change the shape of y to (n_samples, ), for example using ravel().\n",
      "  return f(*args, **kwargs)\n"
     ]
    },
    {
     "data": {
      "text/plain": [
       "GaussianNB()"
      ]
     },
     "execution_count": 60,
     "metadata": {},
     "output_type": "execute_result"
    }
   ],
   "source": [
    "# training the model on training set\n",
    "from sklearn.naive_bayes import GaussianNB\n",
    "gnb = GaussianNB()\n",
    "gnb.fit(X_train, y_train)"
   ]
  },
  {
   "cell_type": "code",
   "execution_count": 61,
   "metadata": {},
   "outputs": [],
   "source": [
    "# making predictions on the testing set\n",
    "y_pred_nb = gnb.predict(X_test)"
   ]
  },
  {
   "cell_type": "code",
   "execution_count": 62,
   "metadata": {},
   "outputs": [],
   "source": [
    "pred_prob4 = gnb.predict_proba(X_test)"
   ]
  },
  {
   "cell_type": "code",
   "execution_count": 63,
   "metadata": {},
   "outputs": [
    {
     "name": "stdout",
     "output_type": "stream",
     "text": [
      "Gaussian Naive Bayes model accuracy(in %): 53.2\n"
     ]
    }
   ],
   "source": [
    "# comparing actual response values (y_test) with predicted response values (y_pred)\n",
    "from sklearn import metrics\n",
    "print(\"Gaussian Naive Bayes model accuracy(in %):\", metrics.accuracy_score(y_test, y_pred_nb)*100)"
   ]
  },
  {
   "cell_type": "markdown",
   "metadata": {},
   "source": [
    "### Random Forest"
   ]
  },
  {
   "cell_type": "code",
   "execution_count": 64,
   "metadata": {},
   "outputs": [
    {
     "data": {
      "text/plain": [
       "RandomForestClassifier(n_estimators=10, random_state=30)"
      ]
     },
     "execution_count": 64,
     "metadata": {},
     "output_type": "execute_result"
    }
   ],
   "source": [
    "from sklearn.model_selection import train_test_split\n",
    "\n",
    "X_train, X_test, Y_train, Y_test = train_test_split(X,Y, test_size=0.4, random_state=0)\n",
    "\n",
    "\n",
    "from sklearn.ensemble import RandomForestClassifier\n",
    "\n",
    "rf = RandomForestClassifier(n_estimators = 10, random_state = 30)\n",
    "\n",
    "rf.fit(X_train, Y_train)"
   ]
  },
  {
   "cell_type": "code",
   "execution_count": 65,
   "metadata": {},
   "outputs": [],
   "source": [
    "y_pred_rf = rf.predict(X_test)"
   ]
  },
  {
   "cell_type": "code",
   "execution_count": 66,
   "metadata": {},
   "outputs": [],
   "source": [
    "pred_prob5 = rf.predict_proba(X_test)"
   ]
  },
  {
   "cell_type": "code",
   "execution_count": 67,
   "metadata": {},
   "outputs": [
    {
     "name": "stdout",
     "output_type": "stream",
     "text": [
      "Accuracy Score on train data:  0.7049399198931909\n",
      "Accuracy Score on test data:  0.74\n"
     ]
    }
   ],
   "source": [
    "print('Accuracy Score on train data: ', accuracy_score(y_true=y_train, y_pred=clf.predict(X_train)))\n",
    "print('Accuracy Score on test data: ', accuracy_score(y_true=y_test, y_pred=y_pred_rf))"
   ]
  },
  {
   "cell_type": "markdown",
   "metadata": {},
   "source": [
    "### ROC & AUC"
   ]
  },
  {
   "cell_type": "code",
   "execution_count": 68,
   "metadata": {},
   "outputs": [
    {
     "data": {
      "text/plain": [
       "numpy.ndarray"
      ]
     },
     "execution_count": 68,
     "metadata": {},
     "output_type": "execute_result"
    }
   ],
   "source": [
    "type(y_pred_lr)"
   ]
  },
  {
   "cell_type": "code",
   "execution_count": 69,
   "metadata": {},
   "outputs": [
    {
     "data": {
      "text/plain": [
       "pandas.core.frame.DataFrame"
      ]
     },
     "execution_count": 69,
     "metadata": {},
     "output_type": "execute_result"
    }
   ],
   "source": [
    "type(y_test)"
   ]
  },
  {
   "cell_type": "code",
   "execution_count": 70,
   "metadata": {},
   "outputs": [],
   "source": [
    "from sklearn.metrics import roc_curve\n",
    "\n",
    "# roc curve for models\n",
    "fpr1, tpr1, thresh1 = roc_curve(y_test, pred_prob1[:,1], pos_label=1)\n",
    "#fpr2, tpr2, thresh2 = roc_curve(y_test, pred_prob2[:,1], pos_label=1)\n",
    "fpr3, tpr3, thresh3 = roc_curve(y_test, pred_prob3[:,1], pos_label=1)\n",
    "fpr4, tpr4, thresh4 = roc_curve(y_test, pred_prob4[:,1], pos_label=1)\n",
    "fpr5, tpr5, thresh5 = roc_curve(y_test, pred_prob5[:,1], pos_label=1)"
   ]
  },
  {
   "cell_type": "code",
   "execution_count": 71,
   "metadata": {},
   "outputs": [],
   "source": [
    "# roc curve for tpr = fpr \n",
    "random_probs = [0 for i in range(len(y_test))]\n",
    "p_fpr, p_tpr, _ = roc_curve(y_test, random_probs, pos_label=1)"
   ]
  },
  {
   "cell_type": "code",
   "execution_count": 72,
   "metadata": {},
   "outputs": [
    {
     "name": "stdout",
     "output_type": "stream",
     "text": [
      "0.8495392138423924 0.7368010962142992 0.810526881431527 0.5459308417743626\n"
     ]
    }
   ],
   "source": [
    "from sklearn.metrics import roc_auc_score\n",
    "\n",
    "# auc scores\n",
    "auc_score1 = roc_auc_score(y_test, pred_prob1[:,1])\n",
    "#auc_score2 = roc_auc_score(y_test, pred_prob2[:,1])\n",
    "auc_score3 = roc_auc_score(y_test, pred_prob3[:,1])\n",
    "auc_score4 = roc_auc_score(y_test, pred_prob4[:,1])\n",
    "auc_score5 = roc_auc_score(y_test, pred_prob5[:,1])\n",
    "\n",
    "print(auc_score1, auc_score3,auc_score4,auc_score5)"
   ]
  },
  {
   "cell_type": "code",
   "execution_count": 74,
   "metadata": {},
   "outputs": [
    {
     "data": {
      "image/png": "[encoded data removed]",
      "text/plain": [
       "<Figure size 576x396 with 1 Axes>"
      ]
     },
     "metadata": {},
     "output_type": "display_data"
    }
   ],
   "source": [
    "# matplotlib\n",
    "import matplotlib.pyplot as plt\n",
    "plt.style.use('seaborn')\n",
    "\n",
    "# plot roc curves\n",
    "plt.plot(fpr1, tpr1, linestyle='--',color='orange', label='Logistic Regression')\n",
    "#plt.plot(fpr2, tpr2, linestyle='--',color='black', label='SVM')\n",
    "plt.plot(fpr3, tpr3, linestyle='--',color='green' , label='Decision Trees')\n",
    "plt.plot(fpr4, tpr4, linestyle='--',color='yellow', label='Naive Bias')\n",
    "plt.plot(fpr5, tpr5, linestyle='--',color='red'   , label='Random Forest')\n",
    "\n",
    "plt.plot(p_fpr, p_tpr, linestyle='--', color='blue')\n",
    "# title\n",
    "plt.title('ROC curve')\n",
    "# x label\n",
    "plt.xlabel('False Positive Rate')\n",
    "# y label\n",
    "plt.ylabel('True Positive rate')\n",
    "\n",
    "plt.legend(loc='best')\n",
    "plt.savefig('ROC',dpi=300)\n",
    "plt.show();"
   ]
  },
  {
   "cell_type": "code",
   "execution_count": null,
   "metadata": {},
   "outputs": [],
   "source": []
  },
  {
   "cell_type": "code",
   "execution_count": null,
   "metadata": {},
   "outputs": [],
   "source": []
  },
  {
   "cell_type": "code",
   "execution_count": null,
   "metadata": {},
   "outputs": [],
   "source": []
  },
  {
   "cell_type": "code",
   "execution_count": null,
   "metadata": {},
   "outputs": [],
   "source": []
  },
  {
   "cell_type": "code",
   "execution_count": null,
   "metadata": {},
   "outputs": [],
   "source": []
  },
  {
   "cell_type": "code",
   "execution_count": null,
   "metadata": {},
   "outputs": [],
   "source": []
  }
 ],
 "metadata": {
  "kernelspec": {
   "display_name": "Python 3",
   "language": "python",
   "name": "python3"
  },
  "language_info": {
   "codemirror_mode": {
    "name": "ipython",
    "version": 3
   },
   "file_extension": ".py",
   "mimetype": "text/x-python",
   "name": "python",
   "nbconvert_exporter": "python",
   "pygments_lexer": "ipython3",
   "version": "3.8.5"
  }
 },
 "nbformat": 4,
 "nbformat_minor": 4
}
